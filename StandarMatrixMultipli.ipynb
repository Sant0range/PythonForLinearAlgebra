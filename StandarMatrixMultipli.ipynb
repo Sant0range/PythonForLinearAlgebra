{
 "cells": [
  {
   "cell_type": "code",
   "execution_count": 14,
   "metadata": {},
   "outputs": [],
   "source": [
    "import numpy as np"
   ]
  },
  {
   "cell_type": "code",
   "execution_count": 15,
   "metadata": {},
   "outputs": [
    {
     "name": "stdout",
     "output_type": "stream",
     "text": [
      "[[-1.  0. -2. -2.]\n",
      " [ 3. -1.  2.  2.]\n",
      " [ 0.  2. -2. -3.]\n",
      " [-2.  1.  0.  2.]]\n"
     ]
    }
   ],
   "source": [
    "M1 =np.round( np.random.randn(4,5))\n",
    "M2 =np.round(np.random.randn(4,5))\n",
    "\n",
    "print( np.matmul(M1,M2.T))#para sumar matrices"
   ]
  },
  {
   "cell_type": "code",
   "execution_count": 16,
   "metadata": {},
   "outputs": [
    {
     "name": "stdout",
     "output_type": "stream",
     "text": [
      "[[-1.  0. -2. -2.]\n",
      " [ 3. -1.  2.  2.]\n",
      " [ 0.  2. -2. -3.]\n",
      " [-2.  1.  0.  2.]]\n",
      " \n",
      "[[0. 0. 0. 0.]\n",
      " [0. 0. 0. 0.]\n",
      " [0. 0. 0. 0.]\n",
      " [0. 0. 0. 0.]]\n"
     ]
    }
   ],
   "source": [
    "print(M1@M2.T)#para sumar matrices mas facil sin np\n",
    "print(' ')\n",
    "print( np.matmul(M1,M2.T) - (M1@M2.T))"
   ]
  }
 ],
 "metadata": {
  "kernelspec": {
   "display_name": "Python 3",
   "language": "python",
   "name": "python3"
  },
  "language_info": {
   "codemirror_mode": {
    "name": "ipython",
    "version": 3
   },
   "file_extension": ".py",
   "mimetype": "text/x-python",
   "name": "python",
   "nbconvert_exporter": "python",
   "pygments_lexer": "ipython3",
   "version": "3.11.9"
  }
 },
 "nbformat": 4,
 "nbformat_minor": 2
}
