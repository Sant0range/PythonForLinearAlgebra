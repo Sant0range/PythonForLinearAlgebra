{
 "cells": [
  {
   "cell_type": "code",
   "execution_count": 2,
   "metadata": {},
   "outputs": [],
   "source": [
    "import numpy as np"
   ]
  },
  {
   "cell_type": "code",
   "execution_count": 7,
   "metadata": {},
   "outputs": [
    {
     "name": "stdout",
     "output_type": "stream",
     "text": [
      "[[ 2  3 -1]]\n",
      "[[ 2]\n",
      " [ 3]\n",
      " [-1]]\n"
     ]
    }
   ],
   "source": [
    "v1 = np.array([2,3,-1],ndmin=2)\n",
    "\n",
    "print(v1)\n",
    "print(v1.T)"
   ]
  },
  {
   "cell_type": "code",
   "execution_count": 14,
   "metadata": {},
   "outputs": [
    {
     "name": "stdout",
     "output_type": "stream",
     "text": [
      "[[10.  4. -4.]\n",
      " [18. 14. -7.]\n",
      " [-5. 11. 10.]]\n",
      " \n",
      "[[10. 18. -5.]\n",
      " [ 4. 14. 11.]\n",
      " [-4. -7. 10.]]\n"
     ]
    }
   ],
   "source": [
    "M = np.round(10*np.random.randn(3,3))\n",
    "print(M)\n",
    "print(' ')\n",
    "print(M.T)\n"
   ]
  },
  {
   "cell_type": "code",
   "execution_count": 16,
   "metadata": {},
   "outputs": [
    {
     "name": "stdout",
     "output_type": "stream",
     "text": [
      "[[  6.  -3.]\n",
      " [  1.  -6.]\n",
      " [ -0. -17.]]\n",
      " \n",
      "[[  6.   1.  -0.]\n",
      " [ -3.  -6. -17.]]\n",
      " \n",
      "[[  6.  -3.]\n",
      " [  1.  -6.]\n",
      " [ -0. -17.]]\n"
     ]
    }
   ],
   "source": [
    "M = np.round(10*np.random.randn(3,2))\n",
    "N= M.T\n",
    "print(M)\n",
    "print(' ')\n",
    "print(N)\n",
    "print(' ')\n",
    "print(N.T)"
   ]
  }
 ],
 "metadata": {
  "kernelspec": {
   "display_name": "Python 3",
   "language": "python",
   "name": "python3"
  },
  "language_info": {
   "codemirror_mode": {
    "name": "ipython",
    "version": 3
   },
   "file_extension": ".py",
   "mimetype": "text/x-python",
   "name": "python",
   "nbconvert_exporter": "python",
   "pygments_lexer": "ipython3",
   "version": "3.11.9"
  }
 },
 "nbformat": 4,
 "nbformat_minor": 2
}
