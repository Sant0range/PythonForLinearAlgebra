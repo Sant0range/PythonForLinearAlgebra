{
 "cells": [
  {
   "cell_type": "code",
   "execution_count": 65,
   "metadata": {},
   "outputs": [],
   "source": [
    "import numpy as np\n",
    "import matplotlib.pyplot as plt"
   ]
  },
  {
   "cell_type": "code",
   "execution_count": 66,
   "metadata": {},
   "outputs": [
    {
     "name": "stdout",
     "output_type": "stream",
     "text": [
      "[[ 0.74849739  0.22718623 -0.5858683  -1.43800698]\n",
      " [ 0.16984808  1.56939405  1.19725109 -1.19148035]\n",
      " [-1.66844561 -0.83019107 -1.61299343  0.16289378]\n",
      " [-0.85608365 -1.72186252  0.99246625  0.61103475]]\n",
      " \n",
      "[[ 0.24081376 -0.41722641 -0.47166561 -0.12109591]\n",
      " [-0.39035362  0.26092455  0.07153173 -0.42893932]\n",
      " [-0.10755396  0.26846046 -0.18494392  0.31966794]\n",
      " [-0.58791233 -0.28532329 -0.15885644 -0.26103656]]\n",
      " \n",
      "[[ 1.00000000e+00 -3.51841795e-17 -2.82451608e-17 -1.97180682e-17]\n",
      " [ 4.11898262e-17  1.00000000e+00  4.40971349e-17 -7.30687772e-17]\n",
      " [-6.63073538e-17  7.68904961e-17  1.00000000e+00 -1.11581294e-17]\n",
      " [ 1.15548431e-16 -1.44490992e-16  8.57917209e-17  1.00000000e+00]]\n"
     ]
    }
   ],
   "source": [
    "A = np.random.randn(4,4)\n",
    "Ainv = np.linalg.inv(A)\n",
    "\n",
    "AinvA = A@Ainv\n",
    "\n",
    "print(A)#matriz A\n",
    "print(' ')\n",
    "print(Ainv)#matriz Invetida\n",
    "print(' ')\n",
    "print(AinvA) #Matriz Identidad"
   ]
  },
  {
   "cell_type": "code",
   "execution_count": 67,
   "metadata": {},
   "outputs": [
    {
     "data": {
      "text/plain": [
       "<function matplotlib.pyplot.show(close=None, block=None)>"
      ]
     },
     "execution_count": 67,
     "metadata": {},
     "output_type": "execute_result"
    },
    {
     "data": {
      "image/png": "[encoded data removed]",
      "text/plain": [
       "<Figure size 600x500 with 3 Axes>"
      ]
     },
     "metadata": {},
     "output_type": "display_data"
    }
   ],
   "source": [
    "fig,ax = plt.subplots(1,3, figsize=(6,5))\n",
    "\n",
    "ax[0].imshow(A)#Matriz A\n",
    "ax[0].set_title('A')\n",
    "\n",
    "ax[1].imshow(Ainv)#Matriz invertida\n",
    "ax[1].set_title('A$^{-1}$') #latex  coding para sacar el -1\n",
    "\n",
    "ax[2].imshow(AinvA)#Matriz identidad\n",
    "ax[2].set_title('A$^{-1}$A') #latex  coding para sacar el -1A\n",
    "\n",
    "plt.show"
   ]
  },
  {
   "cell_type": "code",
   "execution_count": 69,
   "metadata": {},
   "outputs": [
    {
     "name": "stdout",
     "output_type": "stream",
     "text": [
      "[[1 0 0]\n",
      " [0 2 0]\n",
      " [0 0 3]]\n",
      " \n",
      "[[1.         0.         0.        ]\n",
      " [0.         0.5        0.        ]\n",
      " [0.         0.         0.33333333]]\n"
     ]
    }
   ],
   "source": [
    "# Definimos un vector\n",
    "vector = np.array([1, 2, 3])\n",
    "\n",
    "# Creamos la matriz diagonal\n",
    "matriz_diagonal = np.diag(vector)\n",
    "\n",
    "# Calculamos la inversa\n",
    "inversa_matriz = np.linalg.inv(matriz_diagonal)\n",
    "\n",
    "print(matriz_diagonal)\n",
    "print(' ')\n",
    "print(inversa_matriz)\n"
   ]
  },
  {
   "cell_type": "code",
   "execution_count": null,
   "metadata": {},
   "outputs": [],
   "source": []
  },
  {
   "cell_type": "code",
   "execution_count": null,
   "metadata": {},
   "outputs": [],
   "source": []
  }
 ],
 "metadata": {
  "kernelspec": {
   "display_name": "Python 3",
   "language": "python",
   "name": "python3"
  },
  "language_info": {
   "codemirror_mode": {
    "name": "ipython",
    "version": 3
   },
   "file_extension": ".py",
   "mimetype": "text/x-python",
   "name": "python",
   "nbconvert_exporter": "python",
   "pygments_lexer": "ipython3",
   "version": "3.11.9"
  }
 },
 "nbformat": 4,
 "nbformat_minor": 2
}
